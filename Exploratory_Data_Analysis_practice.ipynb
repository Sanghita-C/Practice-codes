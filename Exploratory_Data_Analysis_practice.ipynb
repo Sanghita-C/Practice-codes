{
  "nbformat": 4,
  "nbformat_minor": 0,
  "metadata": {
    "colab": {
      "provenance": [],
      "authorship_tag": "ABX9TyM/rGvgxgHfG8QZS9EnEXDq",
      "include_colab_link": true
    },
    "kernelspec": {
      "name": "python3",
      "display_name": "Python 3"
    },
    "language_info": {
      "name": "python"
    }
  },
  "cells": [
    {
      "cell_type": "markdown",
      "metadata": {
        "id": "view-in-github",
        "colab_type": "text"
      },
      "source": [
        "<a href=\"https://colab.research.google.com/github/Sanghita-C/Practice-codes/blob/master/Exploratory_Data_Analysis_practice.ipynb\" target=\"_parent\"><img src=\"https://colab.research.google.com/assets/colab-badge.svg\" alt=\"Open In Colab\"/></a>"
      ]
    },
    {
      "cell_type": "code",
      "execution_count": 4,
      "metadata": {
        "id": "0TbSeHrrAnA1"
      },
      "outputs": [],
      "source": [
        "import pandas as pd\n",
        "import seaborn as sns\n",
        "import matplotlib.pyplot as plt\n"
      ]
    },
    {
      "cell_type": "code",
      "source": [
        "data = sns.load_dataset('titanic')\n",
        "print(data.head())"
      ],
      "metadata": {
        "colab": {
          "base_uri": "https://localhost:8080/"
        },
        "id": "u12_S5wHFCcq",
        "outputId": "9cc8ffa4-5fff-4204-c8c6-68771064767e"
      },
      "execution_count": 5,
      "outputs": [
        {
          "output_type": "stream",
          "name": "stdout",
          "text": [
            "   survived  pclass     sex   age  sibsp  parch     fare embarked  class  \\\n",
            "0         0       3    male  22.0      1      0   7.2500        S  Third   \n",
            "1         1       1  female  38.0      1      0  71.2833        C  First   \n",
            "2         1       3  female  26.0      0      0   7.9250        S  Third   \n",
            "3         1       1  female  35.0      1      0  53.1000        S  First   \n",
            "4         0       3    male  35.0      0      0   8.0500        S  Third   \n",
            "\n",
            "     who  adult_male deck  embark_town alive  alone  \n",
            "0    man        True  NaN  Southampton    no  False  \n",
            "1  woman       False    C    Cherbourg   yes  False  \n",
            "2  woman       False  NaN  Southampton   yes   True  \n",
            "3  woman       False    C  Southampton   yes  False  \n",
            "4    man        True  NaN  Southampton    no   True  \n"
          ]
        }
      ]
    },
    {
      "cell_type": "code",
      "source": [
        "print(data.info())"
      ],
      "metadata": {
        "colab": {
          "base_uri": "https://localhost:8080/"
        },
        "id": "-FSljvNbFXRv",
        "outputId": "16bbf810-dc32-4847-9a79-7a31bab92bb0"
      },
      "execution_count": 6,
      "outputs": [
        {
          "output_type": "stream",
          "name": "stdout",
          "text": [
            "<class 'pandas.core.frame.DataFrame'>\n",
            "RangeIndex: 891 entries, 0 to 890\n",
            "Data columns (total 15 columns):\n",
            " #   Column       Non-Null Count  Dtype   \n",
            "---  ------       --------------  -----   \n",
            " 0   survived     891 non-null    int64   \n",
            " 1   pclass       891 non-null    int64   \n",
            " 2   sex          891 non-null    object  \n",
            " 3   age          714 non-null    float64 \n",
            " 4   sibsp        891 non-null    int64   \n",
            " 5   parch        891 non-null    int64   \n",
            " 6   fare         891 non-null    float64 \n",
            " 7   embarked     889 non-null    object  \n",
            " 8   class        891 non-null    category\n",
            " 9   who          891 non-null    object  \n",
            " 10  adult_male   891 non-null    bool    \n",
            " 11  deck         203 non-null    category\n",
            " 12  embark_town  889 non-null    object  \n",
            " 13  alive        891 non-null    object  \n",
            " 14  alone        891 non-null    bool    \n",
            "dtypes: bool(2), category(2), float64(2), int64(4), object(5)\n",
            "memory usage: 80.7+ KB\n",
            "None\n"
          ]
        }
      ]
    },
    {
      "cell_type": "code",
      "source": [
        "print(data.describe(include='all'))"
      ],
      "metadata": {
        "colab": {
          "base_uri": "https://localhost:8080/"
        },
        "id": "1t-rAc-DFe9D",
        "outputId": "d8a71782-b99f-4b4b-a180-f430fdb8d0b3"
      },
      "execution_count": 8,
      "outputs": [
        {
          "output_type": "stream",
          "name": "stdout",
          "text": [
            "          survived      pclass   sex         age       sibsp       parch  \\\n",
            "count   891.000000  891.000000   891  714.000000  891.000000  891.000000   \n",
            "unique         NaN         NaN     2         NaN         NaN         NaN   \n",
            "top            NaN         NaN  male         NaN         NaN         NaN   \n",
            "freq           NaN         NaN   577         NaN         NaN         NaN   \n",
            "mean      0.383838    2.308642   NaN   29.699118    0.523008    0.381594   \n",
            "std       0.486592    0.836071   NaN   14.526497    1.102743    0.806057   \n",
            "min       0.000000    1.000000   NaN    0.420000    0.000000    0.000000   \n",
            "25%       0.000000    2.000000   NaN   20.125000    0.000000    0.000000   \n",
            "50%       0.000000    3.000000   NaN   28.000000    0.000000    0.000000   \n",
            "75%       1.000000    3.000000   NaN   38.000000    1.000000    0.000000   \n",
            "max       1.000000    3.000000   NaN   80.000000    8.000000    6.000000   \n",
            "\n",
            "              fare embarked  class  who adult_male deck  embark_town alive  \\\n",
            "count   891.000000      889    891  891        891  203          889   891   \n",
            "unique         NaN        3      3    3          2    7            3     2   \n",
            "top            NaN        S  Third  man       True    C  Southampton    no   \n",
            "freq           NaN      644    491  537        537   59          644   549   \n",
            "mean     32.204208      NaN    NaN  NaN        NaN  NaN          NaN   NaN   \n",
            "std      49.693429      NaN    NaN  NaN        NaN  NaN          NaN   NaN   \n",
            "min       0.000000      NaN    NaN  NaN        NaN  NaN          NaN   NaN   \n",
            "25%       7.910400      NaN    NaN  NaN        NaN  NaN          NaN   NaN   \n",
            "50%      14.454200      NaN    NaN  NaN        NaN  NaN          NaN   NaN   \n",
            "75%      31.000000      NaN    NaN  NaN        NaN  NaN          NaN   NaN   \n",
            "max     512.329200      NaN    NaN  NaN        NaN  NaN          NaN   NaN   \n",
            "\n",
            "       alone  \n",
            "count    891  \n",
            "unique     2  \n",
            "top     True  \n",
            "freq     537  \n",
            "mean     NaN  \n",
            "std      NaN  \n",
            "min      NaN  \n",
            "25%      NaN  \n",
            "50%      NaN  \n",
            "75%      NaN  \n",
            "max      NaN  \n"
          ]
        }
      ]
    },
    {
      "cell_type": "code",
      "source": [
        "data = pd.DataFrame(data)\n",
        "print(data.head(20))"
      ],
      "metadata": {
        "colab": {
          "base_uri": "https://localhost:8080/"
        },
        "id": "5tBcHkt4MTal",
        "outputId": "8dedbc65-84bf-4e80-fd31-493c57451314"
      },
      "execution_count": 17,
      "outputs": [
        {
          "output_type": "stream",
          "name": "stdout",
          "text": [
            "    survived  pclass     sex   age  sibsp  parch     fare embarked   class  \\\n",
            "0          0       3    male  22.0      1      0   7.2500        S   Third   \n",
            "1          1       1  female  38.0      1      0  71.2833        C   First   \n",
            "2          1       3  female  26.0      0      0   7.9250        S   Third   \n",
            "3          1       1  female  35.0      1      0  53.1000        S   First   \n",
            "4          0       3    male  35.0      0      0   8.0500        S   Third   \n",
            "5          0       3    male   NaN      0      0   8.4583        Q   Third   \n",
            "6          0       1    male  54.0      0      0  51.8625        S   First   \n",
            "7          0       3    male   2.0      3      1  21.0750        S   Third   \n",
            "8          1       3  female  27.0      0      2  11.1333        S   Third   \n",
            "9          1       2  female  14.0      1      0  30.0708        C  Second   \n",
            "10         1       3  female   4.0      1      1  16.7000        S   Third   \n",
            "11         1       1  female  58.0      0      0  26.5500        S   First   \n",
            "12         0       3    male  20.0      0      0   8.0500        S   Third   \n",
            "13         0       3    male  39.0      1      5  31.2750        S   Third   \n",
            "14         0       3  female  14.0      0      0   7.8542        S   Third   \n",
            "15         1       2  female  55.0      0      0  16.0000        S  Second   \n",
            "16         0       3    male   2.0      4      1  29.1250        Q   Third   \n",
            "17         1       2    male   NaN      0      0  13.0000        S  Second   \n",
            "18         0       3  female  31.0      1      0  18.0000        S   Third   \n",
            "19         1       3  female   NaN      0      0   7.2250        C   Third   \n",
            "\n",
            "      who  adult_male deck  embark_town alive  alone  \n",
            "0     man        True  NaN  Southampton    no  False  \n",
            "1   woman       False    C    Cherbourg   yes  False  \n",
            "2   woman       False  NaN  Southampton   yes   True  \n",
            "3   woman       False    C  Southampton   yes  False  \n",
            "4     man        True  NaN  Southampton    no   True  \n",
            "5     man        True  NaN   Queenstown    no   True  \n",
            "6     man        True    E  Southampton    no   True  \n",
            "7   child       False  NaN  Southampton    no  False  \n",
            "8   woman       False  NaN  Southampton   yes  False  \n",
            "9   child       False  NaN    Cherbourg   yes  False  \n",
            "10  child       False    G  Southampton   yes  False  \n",
            "11  woman       False    C  Southampton   yes   True  \n",
            "12    man        True  NaN  Southampton    no   True  \n",
            "13    man        True  NaN  Southampton    no  False  \n",
            "14  child       False  NaN  Southampton    no   True  \n",
            "15  woman       False  NaN  Southampton   yes   True  \n",
            "16  child       False  NaN   Queenstown    no  False  \n",
            "17    man        True  NaN  Southampton   yes   True  \n",
            "18  woman       False  NaN  Southampton    no  False  \n",
            "19  woman       False  NaN    Cherbourg   yes   True  \n"
          ]
        }
      ]
    },
    {
      "cell_type": "code",
      "source": [
        "new_data =data.drop(['embark_town', 'alive','deck', 'class'], axis=1)\n",
        "print(new_data.head(20))"
      ],
      "metadata": {
        "colab": {
          "base_uri": "https://localhost:8080/"
        },
        "id": "HGA_ZTSHMlJZ",
        "outputId": "398d6bb6-0d37-418d-bed2-d5a846927343"
      },
      "execution_count": 24,
      "outputs": [
        {
          "output_type": "stream",
          "name": "stdout",
          "text": [
            "    survived  pclass     sex   age  sibsp  parch     fare embarked    who  \\\n",
            "0          0       3    male  22.0      1      0   7.2500        S    man   \n",
            "1          1       1  female  38.0      1      0  71.2833        C  woman   \n",
            "2          1       3  female  26.0      0      0   7.9250        S  woman   \n",
            "3          1       1  female  35.0      1      0  53.1000        S  woman   \n",
            "4          0       3    male  35.0      0      0   8.0500        S    man   \n",
            "5          0       3    male   NaN      0      0   8.4583        Q    man   \n",
            "6          0       1    male  54.0      0      0  51.8625        S    man   \n",
            "7          0       3    male   2.0      3      1  21.0750        S  child   \n",
            "8          1       3  female  27.0      0      2  11.1333        S  woman   \n",
            "9          1       2  female  14.0      1      0  30.0708        C  child   \n",
            "10         1       3  female   4.0      1      1  16.7000        S  child   \n",
            "11         1       1  female  58.0      0      0  26.5500        S  woman   \n",
            "12         0       3    male  20.0      0      0   8.0500        S    man   \n",
            "13         0       3    male  39.0      1      5  31.2750        S    man   \n",
            "14         0       3  female  14.0      0      0   7.8542        S  child   \n",
            "15         1       2  female  55.0      0      0  16.0000        S  woman   \n",
            "16         0       3    male   2.0      4      1  29.1250        Q  child   \n",
            "17         1       2    male   NaN      0      0  13.0000        S    man   \n",
            "18         0       3  female  31.0      1      0  18.0000        S  woman   \n",
            "19         1       3  female   NaN      0      0   7.2250        C  woman   \n",
            "\n",
            "    adult_male  alone  \n",
            "0         True  False  \n",
            "1        False  False  \n",
            "2        False   True  \n",
            "3        False  False  \n",
            "4         True   True  \n",
            "5         True   True  \n",
            "6         True   True  \n",
            "7        False  False  \n",
            "8        False  False  \n",
            "9        False  False  \n",
            "10       False  False  \n",
            "11       False   True  \n",
            "12        True   True  \n",
            "13        True  False  \n",
            "14       False   True  \n",
            "15       False   True  \n",
            "16       False  False  \n",
            "17        True   True  \n",
            "18       False  False  \n",
            "19       False   True  \n"
          ]
        }
      ]
    },
    {
      "cell_type": "code",
      "source": [
        "new_data['adult_male'] = new_data['adult_male'].astype(int)\n",
        "new_data['alone'] = new_data['alone'].astype(int)\n",
        "print(new_data.describe())"
      ],
      "metadata": {
        "colab": {
          "base_uri": "https://localhost:8080/"
        },
        "id": "K9YrPjpRNPBn",
        "outputId": "0b8949a9-ed49-45fd-a992-d48f6ec5c01f"
      },
      "execution_count": 25,
      "outputs": [
        {
          "output_type": "stream",
          "name": "stdout",
          "text": [
            "         survived      pclass         age       sibsp       parch        fare  \\\n",
            "count  891.000000  891.000000  714.000000  891.000000  891.000000  891.000000   \n",
            "mean     0.383838    2.308642   29.699118    0.523008    0.381594   32.204208   \n",
            "std      0.486592    0.836071   14.526497    1.102743    0.806057   49.693429   \n",
            "min      0.000000    1.000000    0.420000    0.000000    0.000000    0.000000   \n",
            "25%      0.000000    2.000000   20.125000    0.000000    0.000000    7.910400   \n",
            "50%      0.000000    3.000000   28.000000    0.000000    0.000000   14.454200   \n",
            "75%      1.000000    3.000000   38.000000    1.000000    0.000000   31.000000   \n",
            "max      1.000000    3.000000   80.000000    8.000000    6.000000  512.329200   \n",
            "\n",
            "       adult_male       alone  \n",
            "count  891.000000  891.000000  \n",
            "mean     0.602694    0.602694  \n",
            "std      0.489615    0.489615  \n",
            "min      0.000000    0.000000  \n",
            "25%      0.000000    0.000000  \n",
            "50%      1.000000    1.000000  \n",
            "75%      1.000000    1.000000  \n",
            "max      1.000000    1.000000  \n"
          ]
        }
      ]
    },
    {
      "cell_type": "code",
      "source": [
        "print(new_data.info())"
      ],
      "metadata": {
        "colab": {
          "base_uri": "https://localhost:8080/"
        },
        "id": "tUO24qbrnY5J",
        "outputId": "a3199f5f-214f-4160-b151-398a986036df"
      },
      "execution_count": 27,
      "outputs": [
        {
          "output_type": "stream",
          "name": "stdout",
          "text": [
            "<class 'pandas.core.frame.DataFrame'>\n",
            "RangeIndex: 891 entries, 0 to 890\n",
            "Data columns (total 11 columns):\n",
            " #   Column      Non-Null Count  Dtype  \n",
            "---  ------      --------------  -----  \n",
            " 0   survived    891 non-null    int64  \n",
            " 1   pclass      891 non-null    int64  \n",
            " 2   sex         891 non-null    object \n",
            " 3   age         714 non-null    float64\n",
            " 4   sibsp       891 non-null    int64  \n",
            " 5   parch       891 non-null    int64  \n",
            " 6   fare        891 non-null    float64\n",
            " 7   embarked    889 non-null    object \n",
            " 8   who         891 non-null    object \n",
            " 9   adult_male  891 non-null    int64  \n",
            " 10  alone       891 non-null    int64  \n",
            "dtypes: float64(2), int64(6), object(3)\n",
            "memory usage: 76.7+ KB\n",
            "None\n"
          ]
        }
      ]
    },
    {
      "cell_type": "code",
      "source": [
        "print(new_data.head())"
      ],
      "metadata": {
        "colab": {
          "base_uri": "https://localhost:8080/"
        },
        "id": "sbNkaBYbnAki",
        "outputId": "07e88100-f2f5-464c-b00b-fe66783c7cf4"
      },
      "execution_count": 26,
      "outputs": [
        {
          "output_type": "stream",
          "name": "stdout",
          "text": [
            "   survived  pclass     sex   age  sibsp  parch     fare embarked    who  \\\n",
            "0         0       3    male  22.0      1      0   7.2500        S    man   \n",
            "1         1       1  female  38.0      1      0  71.2833        C  woman   \n",
            "2         1       3  female  26.0      0      0   7.9250        S  woman   \n",
            "3         1       1  female  35.0      1      0  53.1000        S  woman   \n",
            "4         0       3    male  35.0      0      0   8.0500        S    man   \n",
            "\n",
            "   adult_male  alone  \n",
            "0           1      0  \n",
            "1           0      0  \n",
            "2           0      1  \n",
            "3           0      0  \n",
            "4           1      1  \n"
          ]
        }
      ]
    },
    {
      "cell_type": "code",
      "source": [
        "new_data['age'] = new_data['age'].fillna(new_data.groupby('who')['age'].transform('mean'))\n",
        "new_data['embarked'] = new_data['embarked'].fillna(new_data['embarked'].mode()[0])\n",
        "print(new_data.info())"
      ],
      "metadata": {
        "colab": {
          "base_uri": "https://localhost:8080/"
        },
        "id": "HS571V3zqaOv",
        "outputId": "1aa218c6-9bc2-4a13-a9d6-6ad9cf38ff11"
      },
      "execution_count": 30,
      "outputs": [
        {
          "output_type": "stream",
          "name": "stdout",
          "text": [
            "<class 'pandas.core.frame.DataFrame'>\n",
            "RangeIndex: 891 entries, 0 to 890\n",
            "Data columns (total 11 columns):\n",
            " #   Column      Non-Null Count  Dtype  \n",
            "---  ------      --------------  -----  \n",
            " 0   survived    891 non-null    int64  \n",
            " 1   pclass      891 non-null    int64  \n",
            " 2   sex         891 non-null    object \n",
            " 3   age         891 non-null    float64\n",
            " 4   sibsp       891 non-null    int64  \n",
            " 5   parch       891 non-null    int64  \n",
            " 6   fare        891 non-null    float64\n",
            " 7   embarked    891 non-null    object \n",
            " 8   who         891 non-null    object \n",
            " 9   adult_male  891 non-null    int64  \n",
            " 10  alone       891 non-null    int64  \n",
            "dtypes: float64(2), int64(6), object(3)\n",
            "memory usage: 76.7+ KB\n",
            "None\n"
          ]
        }
      ]
    },
    {
      "cell_type": "code",
      "source": [
        "new_data = pd.get_dummies(new_data,columns = ['who','embarked','sex'])\n",
        "print(new_data.info())"
      ],
      "metadata": {
        "colab": {
          "base_uri": "https://localhost:8080/"
        },
        "id": "0s4plcXbsWRB",
        "outputId": "07e64340-fff9-40ca-f254-0dec9a4ac92b"
      },
      "execution_count": 33,
      "outputs": [
        {
          "output_type": "stream",
          "name": "stdout",
          "text": [
            "<class 'pandas.core.frame.DataFrame'>\n",
            "RangeIndex: 891 entries, 0 to 890\n",
            "Data columns (total 16 columns):\n",
            " #   Column      Non-Null Count  Dtype  \n",
            "---  ------      --------------  -----  \n",
            " 0   survived    891 non-null    int64  \n",
            " 1   pclass      891 non-null    int64  \n",
            " 2   age         891 non-null    float64\n",
            " 3   sibsp       891 non-null    int64  \n",
            " 4   parch       891 non-null    int64  \n",
            " 5   fare        891 non-null    float64\n",
            " 6   adult_male  891 non-null    int64  \n",
            " 7   alone       891 non-null    int64  \n",
            " 8   who_child   891 non-null    bool   \n",
            " 9   who_man     891 non-null    bool   \n",
            " 10  who_woman   891 non-null    bool   \n",
            " 11  embarked_C  891 non-null    bool   \n",
            " 12  embarked_Q  891 non-null    bool   \n",
            " 13  embarked_S  891 non-null    bool   \n",
            " 14  sex_female  891 non-null    bool   \n",
            " 15  sex_male    891 non-null    bool   \n",
            "dtypes: bool(8), float64(2), int64(6)\n",
            "memory usage: 62.8 KB\n",
            "None\n"
          ]
        }
      ]
    },
    {
      "cell_type": "code",
      "source": [
        "new_data[['embarked_C','embarked_Q','embarked_S','sex_female','sex_male','who_child','who_man','who_woman']] = new_data[['embarked_C','embarked_Q','embarked_S','sex_female','sex_male','who_child','who_man','who_woman']].astype(int)\n",
        "print(new_data.info())"
      ],
      "metadata": {
        "colab": {
          "base_uri": "https://localhost:8080/"
        },
        "id": "VKo5Wggvvowf",
        "outputId": "95b58868-1e47-4006-f6b6-4912813d90a1"
      },
      "execution_count": 37,
      "outputs": [
        {
          "output_type": "stream",
          "name": "stdout",
          "text": [
            "<class 'pandas.core.frame.DataFrame'>\n",
            "RangeIndex: 891 entries, 0 to 890\n",
            "Data columns (total 16 columns):\n",
            " #   Column      Non-Null Count  Dtype  \n",
            "---  ------      --------------  -----  \n",
            " 0   survived    891 non-null    int64  \n",
            " 1   pclass      891 non-null    int64  \n",
            " 2   age         891 non-null    float64\n",
            " 3   sibsp       891 non-null    int64  \n",
            " 4   parch       891 non-null    int64  \n",
            " 5   fare        891 non-null    float64\n",
            " 6   adult_male  891 non-null    int64  \n",
            " 7   alone       891 non-null    int64  \n",
            " 8   who_child   891 non-null    int64  \n",
            " 9   who_man     891 non-null    int64  \n",
            " 10  who_woman   891 non-null    int64  \n",
            " 11  embarked_C  891 non-null    int64  \n",
            " 12  embarked_Q  891 non-null    int64  \n",
            " 13  embarked_S  891 non-null    int64  \n",
            " 14  sex_female  891 non-null    int64  \n",
            " 15  sex_male    891 non-null    int64  \n",
            "dtypes: float64(2), int64(14)\n",
            "memory usage: 111.5 KB\n",
            "None\n"
          ]
        }
      ]
    },
    {
      "cell_type": "code",
      "source": [
        "corr_matrix = new_data.corr()\n",
        "print(corr_matrix)"
      ],
      "metadata": {
        "colab": {
          "base_uri": "https://localhost:8080/"
        },
        "id": "Y8HE251jwaBl",
        "outputId": "bab4faf9-0149-4ac9-aeb5-d2b1bc0b8636"
      },
      "execution_count": 38,
      "outputs": [
        {
          "output_type": "stream",
          "name": "stdout",
          "text": [
            "            survived    pclass       age     sibsp     parch      fare  \\\n",
            "survived    1.000000 -0.338481 -0.082512 -0.035322  0.081629  0.257307   \n",
            "pclass     -0.338481  1.000000 -0.313421  0.083081  0.018443 -0.549500   \n",
            "age        -0.082512 -0.313421  1.000000 -0.231641 -0.191365  0.080765   \n",
            "sibsp      -0.035322  0.083081 -0.231641  1.000000  0.414838  0.159651   \n",
            "parch       0.081629  0.018443 -0.191365  0.414838  1.000000  0.216225   \n",
            "fare        0.257307 -0.549500  0.080765  0.159651  0.216225  1.000000   \n",
            "adult_male -0.557080  0.094035  0.269192 -0.253586 -0.349943 -0.182024   \n",
            "alone      -0.203367  0.135207  0.196213 -0.584471 -0.583398 -0.271832   \n",
            "who_child   0.136107  0.121920 -0.587910  0.352437  0.351481  0.003753   \n",
            "who_man    -0.557080  0.094035  0.269192 -0.253586 -0.349943 -0.182024   \n",
            "who_woman   0.506562 -0.177049  0.085096  0.047071  0.150167  0.191243   \n",
            "embarked_C  0.168240 -0.243292  0.034887 -0.059528 -0.011069  0.269335   \n",
            "embarked_Q  0.003650  0.221009  0.015061 -0.026354 -0.081228 -0.117216   \n",
            "embarked_S -0.149683  0.074053 -0.040041  0.068734  0.060814 -0.162184   \n",
            "sex_female  0.543351 -0.131900 -0.096862  0.114631  0.245489  0.182333   \n",
            "sex_male   -0.543351  0.131900  0.096862 -0.114631 -0.245489 -0.182333   \n",
            "\n",
            "            adult_male     alone  who_child   who_man  who_woman  embarked_C  \\\n",
            "survived     -0.557080 -0.203367   0.136107 -0.557080   0.506562    0.168240   \n",
            "pclass        0.094035  0.135207   0.121920  0.094035  -0.177049   -0.243292   \n",
            "age           0.269192  0.196213  -0.587910  0.269192   0.085096    0.034887   \n",
            "sibsp        -0.253586 -0.584471   0.352437 -0.253586   0.047071   -0.059528   \n",
            "parch        -0.349943 -0.583398   0.351481 -0.349943   0.150167   -0.011069   \n",
            "fare         -0.182024 -0.271832   0.003753 -0.182024   0.191243    0.269335   \n",
            "adult_male    1.000000  0.404744  -0.394747  1.000000  -0.814281   -0.065980   \n",
            "alone         0.404744  1.000000  -0.347400  0.404744  -0.211036   -0.095298   \n",
            "who_child    -0.394747 -0.347400   1.000000 -0.394747  -0.211896    0.023201   \n",
            "who_man       1.000000  0.404744  -0.394747  1.000000  -0.814281   -0.065980   \n",
            "who_woman    -0.814281 -0.211036  -0.211896 -0.814281   1.000000    0.055524   \n",
            "embarked_C   -0.065980 -0.095298   0.023201 -0.065980   0.055524    1.000000   \n",
            "embarked_Q   -0.076789  0.086464  -0.029861 -0.076789   0.100544   -0.148258   \n",
            "embarked_S    0.106125  0.029074  -0.001534  0.106125  -0.111914   -0.782742   \n",
            "sex_female   -0.908578 -0.303646   0.111141 -0.908578   0.896214    0.082853   \n",
            "sex_male      0.908578  0.303646  -0.111141  0.908578  -0.896214   -0.082853   \n",
            "\n",
            "            embarked_Q  embarked_S  sex_female  sex_male  \n",
            "survived      0.003650   -0.149683    0.543351 -0.543351  \n",
            "pclass        0.221009    0.074053   -0.131900  0.131900  \n",
            "age           0.015061   -0.040041   -0.096862  0.096862  \n",
            "sibsp        -0.026354    0.068734    0.114631 -0.114631  \n",
            "parch        -0.081228    0.060814    0.245489 -0.245489  \n",
            "fare         -0.117216   -0.162184    0.182333 -0.182333  \n",
            "adult_male   -0.076789    0.106125   -0.908578  0.908578  \n",
            "alone         0.086464    0.029074   -0.303646  0.303646  \n",
            "who_child    -0.029861   -0.001534    0.111141 -0.111141  \n",
            "who_man      -0.076789    0.106125   -0.908578  0.908578  \n",
            "who_woman     0.100544   -0.111914    0.896214 -0.896214  \n",
            "embarked_C   -0.148258   -0.782742    0.082853 -0.082853  \n",
            "embarked_Q    1.000000   -0.499421    0.074115 -0.074115  \n",
            "embarked_S   -0.499421    1.000000   -0.119224  0.119224  \n",
            "sex_female    0.074115   -0.119224    1.000000 -1.000000  \n",
            "sex_male     -0.074115    0.119224   -1.000000  1.000000  \n"
          ]
        }
      ]
    },
    {
      "cell_type": "markdown",
      "source": [
        "# ** Manual Feature Selection**"
      ],
      "metadata": {
        "id": "1E-EoAmp07iL"
      }
    },
    {
      "cell_type": "code",
      "source": [
        "manually_selected_data_features = new_data[['sex_female','adult_male','pclass','alone','who_child']]\n",
        "data_labels = new_data['survived']"
      ],
      "metadata": {
        "id": "LGYxDm9B07IB"
      },
      "execution_count": 40,
      "outputs": []
    },
    {
      "cell_type": "code",
      "source": [
        "count_survived =  data_labels.value_counts()\n",
        "print(count_survived)"
      ],
      "metadata": {
        "colab": {
          "base_uri": "https://localhost:8080/"
        },
        "id": "F9mvM1lB25B7",
        "outputId": "399e4eb3-ba82-49a8-8599-4607db19d7b2"
      },
      "execution_count": 41,
      "outputs": [
        {
          "output_type": "stream",
          "name": "stdout",
          "text": [
            "survived\n",
            "0    549\n",
            "1    342\n",
            "Name: count, dtype: int64\n"
          ]
        }
      ]
    },
    {
      "cell_type": "code",
      "source": [
        "from sklearn.model_selection import train_test_split\n",
        "X_train, X_test, y_train, y_test = train_test_split(manually_selected_data_features, data_labels, test_size=0.2,stratify=data_labels, random_state=42)"
      ],
      "metadata": {
        "id": "vo25hAD14bYl"
      },
      "execution_count": 42,
      "outputs": []
    },
    {
      "cell_type": "markdown",
      "source": [
        "### Logistic Regression"
      ],
      "metadata": {
        "id": "rHWGLCj_A95s"
      }
    },
    {
      "cell_type": "code",
      "source": [
        "from sklearn.linear_model import LogisticRegression\n",
        "from sklearn.metrics import accuracy_score, precision_score, recall_score, f1_score, classification_report, confusion_matrix"
      ],
      "metadata": {
        "id": "REeBU3PG6YbP"
      },
      "execution_count": 76,
      "outputs": []
    },
    {
      "cell_type": "code",
      "source": [
        "model = LogisticRegression( max_iter = 20)\n",
        "model.fit(X_train, y_train)"
      ],
      "metadata": {
        "colab": {
          "base_uri": "https://localhost:8080/",
          "height": 80
        },
        "id": "fWk0o28j41sS",
        "outputId": "860b84d5-7024-4302-f883-e9736ee95beb"
      },
      "execution_count": 65,
      "outputs": [
        {
          "output_type": "execute_result",
          "data": {
            "text/plain": [
              "LogisticRegression(max_iter=20)"
            ],
            "text/html": [
              "<style>#sk-container-id-8 {\n",
              "  /* Definition of color scheme common for light and dark mode */\n",
              "  --sklearn-color-text: #000;\n",
              "  --sklearn-color-text-muted: #666;\n",
              "  --sklearn-color-line: gray;\n",
              "  /* Definition of color scheme for unfitted estimators */\n",
              "  --sklearn-color-unfitted-level-0: #fff5e6;\n",
              "  --sklearn-color-unfitted-level-1: #f6e4d2;\n",
              "  --sklearn-color-unfitted-level-2: #ffe0b3;\n",
              "  --sklearn-color-unfitted-level-3: chocolate;\n",
              "  /* Definition of color scheme for fitted estimators */\n",
              "  --sklearn-color-fitted-level-0: #f0f8ff;\n",
              "  --sklearn-color-fitted-level-1: #d4ebff;\n",
              "  --sklearn-color-fitted-level-2: #b3dbfd;\n",
              "  --sklearn-color-fitted-level-3: cornflowerblue;\n",
              "\n",
              "  /* Specific color for light theme */\n",
              "  --sklearn-color-text-on-default-background: var(--sg-text-color, var(--theme-code-foreground, var(--jp-content-font-color1, black)));\n",
              "  --sklearn-color-background: var(--sg-background-color, var(--theme-background, var(--jp-layout-color0, white)));\n",
              "  --sklearn-color-border-box: var(--sg-text-color, var(--theme-code-foreground, var(--jp-content-font-color1, black)));\n",
              "  --sklearn-color-icon: #696969;\n",
              "\n",
              "  @media (prefers-color-scheme: dark) {\n",
              "    /* Redefinition of color scheme for dark theme */\n",
              "    --sklearn-color-text-on-default-background: var(--sg-text-color, var(--theme-code-foreground, var(--jp-content-font-color1, white)));\n",
              "    --sklearn-color-background: var(--sg-background-color, var(--theme-background, var(--jp-layout-color0, #111)));\n",
              "    --sklearn-color-border-box: var(--sg-text-color, var(--theme-code-foreground, var(--jp-content-font-color1, white)));\n",
              "    --sklearn-color-icon: #878787;\n",
              "  }\n",
              "}\n",
              "\n",
              "#sk-container-id-8 {\n",
              "  color: var(--sklearn-color-text);\n",
              "}\n",
              "\n",
              "#sk-container-id-8 pre {\n",
              "  padding: 0;\n",
              "}\n",
              "\n",
              "#sk-container-id-8 input.sk-hidden--visually {\n",
              "  border: 0;\n",
              "  clip: rect(1px 1px 1px 1px);\n",
              "  clip: rect(1px, 1px, 1px, 1px);\n",
              "  height: 1px;\n",
              "  margin: -1px;\n",
              "  overflow: hidden;\n",
              "  padding: 0;\n",
              "  position: absolute;\n",
              "  width: 1px;\n",
              "}\n",
              "\n",
              "#sk-container-id-8 div.sk-dashed-wrapped {\n",
              "  border: 1px dashed var(--sklearn-color-line);\n",
              "  margin: 0 0.4em 0.5em 0.4em;\n",
              "  box-sizing: border-box;\n",
              "  padding-bottom: 0.4em;\n",
              "  background-color: var(--sklearn-color-background);\n",
              "}\n",
              "\n",
              "#sk-container-id-8 div.sk-container {\n",
              "  /* jupyter's `normalize.less` sets `[hidden] { display: none; }`\n",
              "     but bootstrap.min.css set `[hidden] { display: none !important; }`\n",
              "     so we also need the `!important` here to be able to override the\n",
              "     default hidden behavior on the sphinx rendered scikit-learn.org.\n",
              "     See: https://github.com/scikit-learn/scikit-learn/issues/21755 */\n",
              "  display: inline-block !important;\n",
              "  position: relative;\n",
              "}\n",
              "\n",
              "#sk-container-id-8 div.sk-text-repr-fallback {\n",
              "  display: none;\n",
              "}\n",
              "\n",
              "div.sk-parallel-item,\n",
              "div.sk-serial,\n",
              "div.sk-item {\n",
              "  /* draw centered vertical line to link estimators */\n",
              "  background-image: linear-gradient(var(--sklearn-color-text-on-default-background), var(--sklearn-color-text-on-default-background));\n",
              "  background-size: 2px 100%;\n",
              "  background-repeat: no-repeat;\n",
              "  background-position: center center;\n",
              "}\n",
              "\n",
              "/* Parallel-specific style estimator block */\n",
              "\n",
              "#sk-container-id-8 div.sk-parallel-item::after {\n",
              "  content: \"\";\n",
              "  width: 100%;\n",
              "  border-bottom: 2px solid var(--sklearn-color-text-on-default-background);\n",
              "  flex-grow: 1;\n",
              "}\n",
              "\n",
              "#sk-container-id-8 div.sk-parallel {\n",
              "  display: flex;\n",
              "  align-items: stretch;\n",
              "  justify-content: center;\n",
              "  background-color: var(--sklearn-color-background);\n",
              "  position: relative;\n",
              "}\n",
              "\n",
              "#sk-container-id-8 div.sk-parallel-item {\n",
              "  display: flex;\n",
              "  flex-direction: column;\n",
              "}\n",
              "\n",
              "#sk-container-id-8 div.sk-parallel-item:first-child::after {\n",
              "  align-self: flex-end;\n",
              "  width: 50%;\n",
              "}\n",
              "\n",
              "#sk-container-id-8 div.sk-parallel-item:last-child::after {\n",
              "  align-self: flex-start;\n",
              "  width: 50%;\n",
              "}\n",
              "\n",
              "#sk-container-id-8 div.sk-parallel-item:only-child::after {\n",
              "  width: 0;\n",
              "}\n",
              "\n",
              "/* Serial-specific style estimator block */\n",
              "\n",
              "#sk-container-id-8 div.sk-serial {\n",
              "  display: flex;\n",
              "  flex-direction: column;\n",
              "  align-items: center;\n",
              "  background-color: var(--sklearn-color-background);\n",
              "  padding-right: 1em;\n",
              "  padding-left: 1em;\n",
              "}\n",
              "\n",
              "\n",
              "/* Toggleable style: style used for estimator/Pipeline/ColumnTransformer box that is\n",
              "clickable and can be expanded/collapsed.\n",
              "- Pipeline and ColumnTransformer use this feature and define the default style\n",
              "- Estimators will overwrite some part of the style using the `sk-estimator` class\n",
              "*/\n",
              "\n",
              "/* Pipeline and ColumnTransformer style (default) */\n",
              "\n",
              "#sk-container-id-8 div.sk-toggleable {\n",
              "  /* Default theme specific background. It is overwritten whether we have a\n",
              "  specific estimator or a Pipeline/ColumnTransformer */\n",
              "  background-color: var(--sklearn-color-background);\n",
              "}\n",
              "\n",
              "/* Toggleable label */\n",
              "#sk-container-id-8 label.sk-toggleable__label {\n",
              "  cursor: pointer;\n",
              "  display: flex;\n",
              "  width: 100%;\n",
              "  margin-bottom: 0;\n",
              "  padding: 0.5em;\n",
              "  box-sizing: border-box;\n",
              "  text-align: center;\n",
              "  align-items: start;\n",
              "  justify-content: space-between;\n",
              "  gap: 0.5em;\n",
              "}\n",
              "\n",
              "#sk-container-id-8 label.sk-toggleable__label .caption {\n",
              "  font-size: 0.6rem;\n",
              "  font-weight: lighter;\n",
              "  color: var(--sklearn-color-text-muted);\n",
              "}\n",
              "\n",
              "#sk-container-id-8 label.sk-toggleable__label-arrow:before {\n",
              "  /* Arrow on the left of the label */\n",
              "  content: \"▸\";\n",
              "  float: left;\n",
              "  margin-right: 0.25em;\n",
              "  color: var(--sklearn-color-icon);\n",
              "}\n",
              "\n",
              "#sk-container-id-8 label.sk-toggleable__label-arrow:hover:before {\n",
              "  color: var(--sklearn-color-text);\n",
              "}\n",
              "\n",
              "/* Toggleable content - dropdown */\n",
              "\n",
              "#sk-container-id-8 div.sk-toggleable__content {\n",
              "  max-height: 0;\n",
              "  max-width: 0;\n",
              "  overflow: hidden;\n",
              "  text-align: left;\n",
              "  /* unfitted */\n",
              "  background-color: var(--sklearn-color-unfitted-level-0);\n",
              "}\n",
              "\n",
              "#sk-container-id-8 div.sk-toggleable__content.fitted {\n",
              "  /* fitted */\n",
              "  background-color: var(--sklearn-color-fitted-level-0);\n",
              "}\n",
              "\n",
              "#sk-container-id-8 div.sk-toggleable__content pre {\n",
              "  margin: 0.2em;\n",
              "  border-radius: 0.25em;\n",
              "  color: var(--sklearn-color-text);\n",
              "  /* unfitted */\n",
              "  background-color: var(--sklearn-color-unfitted-level-0);\n",
              "}\n",
              "\n",
              "#sk-container-id-8 div.sk-toggleable__content.fitted pre {\n",
              "  /* unfitted */\n",
              "  background-color: var(--sklearn-color-fitted-level-0);\n",
              "}\n",
              "\n",
              "#sk-container-id-8 input.sk-toggleable__control:checked~div.sk-toggleable__content {\n",
              "  /* Expand drop-down */\n",
              "  max-height: 200px;\n",
              "  max-width: 100%;\n",
              "  overflow: auto;\n",
              "}\n",
              "\n",
              "#sk-container-id-8 input.sk-toggleable__control:checked~label.sk-toggleable__label-arrow:before {\n",
              "  content: \"▾\";\n",
              "}\n",
              "\n",
              "/* Pipeline/ColumnTransformer-specific style */\n",
              "\n",
              "#sk-container-id-8 div.sk-label input.sk-toggleable__control:checked~label.sk-toggleable__label {\n",
              "  color: var(--sklearn-color-text);\n",
              "  background-color: var(--sklearn-color-unfitted-level-2);\n",
              "}\n",
              "\n",
              "#sk-container-id-8 div.sk-label.fitted input.sk-toggleable__control:checked~label.sk-toggleable__label {\n",
              "  background-color: var(--sklearn-color-fitted-level-2);\n",
              "}\n",
              "\n",
              "/* Estimator-specific style */\n",
              "\n",
              "/* Colorize estimator box */\n",
              "#sk-container-id-8 div.sk-estimator input.sk-toggleable__control:checked~label.sk-toggleable__label {\n",
              "  /* unfitted */\n",
              "  background-color: var(--sklearn-color-unfitted-level-2);\n",
              "}\n",
              "\n",
              "#sk-container-id-8 div.sk-estimator.fitted input.sk-toggleable__control:checked~label.sk-toggleable__label {\n",
              "  /* fitted */\n",
              "  background-color: var(--sklearn-color-fitted-level-2);\n",
              "}\n",
              "\n",
              "#sk-container-id-8 div.sk-label label.sk-toggleable__label,\n",
              "#sk-container-id-8 div.sk-label label {\n",
              "  /* The background is the default theme color */\n",
              "  color: var(--sklearn-color-text-on-default-background);\n",
              "}\n",
              "\n",
              "/* On hover, darken the color of the background */\n",
              "#sk-container-id-8 div.sk-label:hover label.sk-toggleable__label {\n",
              "  color: var(--sklearn-color-text);\n",
              "  background-color: var(--sklearn-color-unfitted-level-2);\n",
              "}\n",
              "\n",
              "/* Label box, darken color on hover, fitted */\n",
              "#sk-container-id-8 div.sk-label.fitted:hover label.sk-toggleable__label.fitted {\n",
              "  color: var(--sklearn-color-text);\n",
              "  background-color: var(--sklearn-color-fitted-level-2);\n",
              "}\n",
              "\n",
              "/* Estimator label */\n",
              "\n",
              "#sk-container-id-8 div.sk-label label {\n",
              "  font-family: monospace;\n",
              "  font-weight: bold;\n",
              "  display: inline-block;\n",
              "  line-height: 1.2em;\n",
              "}\n",
              "\n",
              "#sk-container-id-8 div.sk-label-container {\n",
              "  text-align: center;\n",
              "}\n",
              "\n",
              "/* Estimator-specific */\n",
              "#sk-container-id-8 div.sk-estimator {\n",
              "  font-family: monospace;\n",
              "  border: 1px dotted var(--sklearn-color-border-box);\n",
              "  border-radius: 0.25em;\n",
              "  box-sizing: border-box;\n",
              "  margin-bottom: 0.5em;\n",
              "  /* unfitted */\n",
              "  background-color: var(--sklearn-color-unfitted-level-0);\n",
              "}\n",
              "\n",
              "#sk-container-id-8 div.sk-estimator.fitted {\n",
              "  /* fitted */\n",
              "  background-color: var(--sklearn-color-fitted-level-0);\n",
              "}\n",
              "\n",
              "/* on hover */\n",
              "#sk-container-id-8 div.sk-estimator:hover {\n",
              "  /* unfitted */\n",
              "  background-color: var(--sklearn-color-unfitted-level-2);\n",
              "}\n",
              "\n",
              "#sk-container-id-8 div.sk-estimator.fitted:hover {\n",
              "  /* fitted */\n",
              "  background-color: var(--sklearn-color-fitted-level-2);\n",
              "}\n",
              "\n",
              "/* Specification for estimator info (e.g. \"i\" and \"?\") */\n",
              "\n",
              "/* Common style for \"i\" and \"?\" */\n",
              "\n",
              ".sk-estimator-doc-link,\n",
              "a:link.sk-estimator-doc-link,\n",
              "a:visited.sk-estimator-doc-link {\n",
              "  float: right;\n",
              "  font-size: smaller;\n",
              "  line-height: 1em;\n",
              "  font-family: monospace;\n",
              "  background-color: var(--sklearn-color-background);\n",
              "  border-radius: 1em;\n",
              "  height: 1em;\n",
              "  width: 1em;\n",
              "  text-decoration: none !important;\n",
              "  margin-left: 0.5em;\n",
              "  text-align: center;\n",
              "  /* unfitted */\n",
              "  border: var(--sklearn-color-unfitted-level-1) 1pt solid;\n",
              "  color: var(--sklearn-color-unfitted-level-1);\n",
              "}\n",
              "\n",
              ".sk-estimator-doc-link.fitted,\n",
              "a:link.sk-estimator-doc-link.fitted,\n",
              "a:visited.sk-estimator-doc-link.fitted {\n",
              "  /* fitted */\n",
              "  border: var(--sklearn-color-fitted-level-1) 1pt solid;\n",
              "  color: var(--sklearn-color-fitted-level-1);\n",
              "}\n",
              "\n",
              "/* On hover */\n",
              "div.sk-estimator:hover .sk-estimator-doc-link:hover,\n",
              ".sk-estimator-doc-link:hover,\n",
              "div.sk-label-container:hover .sk-estimator-doc-link:hover,\n",
              ".sk-estimator-doc-link:hover {\n",
              "  /* unfitted */\n",
              "  background-color: var(--sklearn-color-unfitted-level-3);\n",
              "  color: var(--sklearn-color-background);\n",
              "  text-decoration: none;\n",
              "}\n",
              "\n",
              "div.sk-estimator.fitted:hover .sk-estimator-doc-link.fitted:hover,\n",
              ".sk-estimator-doc-link.fitted:hover,\n",
              "div.sk-label-container:hover .sk-estimator-doc-link.fitted:hover,\n",
              ".sk-estimator-doc-link.fitted:hover {\n",
              "  /* fitted */\n",
              "  background-color: var(--sklearn-color-fitted-level-3);\n",
              "  color: var(--sklearn-color-background);\n",
              "  text-decoration: none;\n",
              "}\n",
              "\n",
              "/* Span, style for the box shown on hovering the info icon */\n",
              ".sk-estimator-doc-link span {\n",
              "  display: none;\n",
              "  z-index: 9999;\n",
              "  position: relative;\n",
              "  font-weight: normal;\n",
              "  right: .2ex;\n",
              "  padding: .5ex;\n",
              "  margin: .5ex;\n",
              "  width: min-content;\n",
              "  min-width: 20ex;\n",
              "  max-width: 50ex;\n",
              "  color: var(--sklearn-color-text);\n",
              "  box-shadow: 2pt 2pt 4pt #999;\n",
              "  /* unfitted */\n",
              "  background: var(--sklearn-color-unfitted-level-0);\n",
              "  border: .5pt solid var(--sklearn-color-unfitted-level-3);\n",
              "}\n",
              "\n",
              ".sk-estimator-doc-link.fitted span {\n",
              "  /* fitted */\n",
              "  background: var(--sklearn-color-fitted-level-0);\n",
              "  border: var(--sklearn-color-fitted-level-3);\n",
              "}\n",
              "\n",
              ".sk-estimator-doc-link:hover span {\n",
              "  display: block;\n",
              "}\n",
              "\n",
              "/* \"?\"-specific style due to the `<a>` HTML tag */\n",
              "\n",
              "#sk-container-id-8 a.estimator_doc_link {\n",
              "  float: right;\n",
              "  font-size: 1rem;\n",
              "  line-height: 1em;\n",
              "  font-family: monospace;\n",
              "  background-color: var(--sklearn-color-background);\n",
              "  border-radius: 1rem;\n",
              "  height: 1rem;\n",
              "  width: 1rem;\n",
              "  text-decoration: none;\n",
              "  /* unfitted */\n",
              "  color: var(--sklearn-color-unfitted-level-1);\n",
              "  border: var(--sklearn-color-unfitted-level-1) 1pt solid;\n",
              "}\n",
              "\n",
              "#sk-container-id-8 a.estimator_doc_link.fitted {\n",
              "  /* fitted */\n",
              "  border: var(--sklearn-color-fitted-level-1) 1pt solid;\n",
              "  color: var(--sklearn-color-fitted-level-1);\n",
              "}\n",
              "\n",
              "/* On hover */\n",
              "#sk-container-id-8 a.estimator_doc_link:hover {\n",
              "  /* unfitted */\n",
              "  background-color: var(--sklearn-color-unfitted-level-3);\n",
              "  color: var(--sklearn-color-background);\n",
              "  text-decoration: none;\n",
              "}\n",
              "\n",
              "#sk-container-id-8 a.estimator_doc_link.fitted:hover {\n",
              "  /* fitted */\n",
              "  background-color: var(--sklearn-color-fitted-level-3);\n",
              "}\n",
              "</style><div id=\"sk-container-id-8\" class=\"sk-top-container\"><div class=\"sk-text-repr-fallback\"><pre>LogisticRegression(max_iter=20)</pre><b>In a Jupyter environment, please rerun this cell to show the HTML representation or trust the notebook. <br />On GitHub, the HTML representation is unable to render, please try loading this page with nbviewer.org.</b></div><div class=\"sk-container\" hidden><div class=\"sk-item\"><div class=\"sk-estimator fitted sk-toggleable\"><input class=\"sk-toggleable__control sk-hidden--visually\" id=\"sk-estimator-id-8\" type=\"checkbox\" checked><label for=\"sk-estimator-id-8\" class=\"sk-toggleable__label fitted sk-toggleable__label-arrow\"><div><div>LogisticRegression</div></div><div><a class=\"sk-estimator-doc-link fitted\" rel=\"noreferrer\" target=\"_blank\" href=\"https://scikit-learn.org/1.6/modules/generated/sklearn.linear_model.LogisticRegression.html\">?<span>Documentation for LogisticRegression</span></a><span class=\"sk-estimator-doc-link fitted\">i<span>Fitted</span></span></div></label><div class=\"sk-toggleable__content fitted\"><pre>LogisticRegression(max_iter=20)</pre></div> </div></div></div></div>"
            ]
          },
          "metadata": {},
          "execution_count": 65
        }
      ]
    },
    {
      "cell_type": "code",
      "source": [
        "from sklearn.model_selection import cross_validate\n",
        "results = cross_validate(model, X_train, y_train, cv=7, return_train_score= True,scoring=['accuracy', 'precision', 'recall', 'f1'])\n"
      ],
      "metadata": {
        "id": "slp1P-eh-Ztp"
      },
      "execution_count": 74,
      "outputs": []
    },
    {
      "cell_type": "code",
      "source": [
        "print(\"✅ Train Accuracy per Fold:\", results['train_accuracy'])\n",
        "print(\"✅ Test Accuracy per Fold: \", results['test_accuracy'])\n",
        "print(\"✅ Train Precision per Fold:\", results['train_precision'])\n",
        "print(\"✅ Test Precision per Fold: \", results['test_precision'])\n",
        "print(\"✅ Train Recall per Fold:\", results['train_recall'])\n",
        "print(\"✅ Test Recall per Fold: \", results['test_recall'])\n",
        "print(\"✅ Train F1 per Fold:\", results['train_f1'])\n",
        "print(\"✅ Test F1 per Fold: \", results['test_f1'])"
      ],
      "metadata": {
        "colab": {
          "base_uri": "https://localhost:8080/"
        },
        "id": "Vu4XIr1z_S_U",
        "outputId": "d16be9e3-808c-444d-f304-68f9603ceda5"
      },
      "execution_count": 75,
      "outputs": [
        {
          "output_type": "stream",
          "name": "stdout",
          "text": [
            "✅ Train Accuracy per Fold: [0.80819672 0.80163934 0.80983607 0.79672131 0.79508197 0.80360065\n",
            " 0.80851064]\n",
            "✅ Test Accuracy per Fold:  [0.7745098  0.81372549 0.76470588 0.84313725 0.85294118 0.8019802\n",
            " 0.77227723]\n",
            "✅ Train Precision per Fold: [0.75770925 0.75336323 0.75431034 0.74336283 0.74439462 0.75221239\n",
            " 0.76470588]\n",
            "✅ Test Precision per Fold:  [0.72222222 0.75       0.74193548 0.81081081 0.8        0.75675676\n",
            " 0.69047619]\n",
            "✅ Train Recall per Fold: [0.73504274 0.71794872 0.74786325 0.71794872 0.70940171 0.72649573\n",
            " 0.72222222]\n",
            "✅ Test Recall per Fold:  [0.66666667 0.76923077 0.58974359 0.76923077 0.82051282 0.71794872\n",
            " 0.74358974]\n",
            "✅ Train F1 per Fold: [0.7462039  0.73522976 0.75107296 0.73043478 0.72647702 0.73913043\n",
            " 0.74285714]\n",
            "✅ Test F1 per Fold:  [0.69333333 0.75949367 0.65714286 0.78947368 0.81012658 0.73684211\n",
            " 0.71604938]\n"
          ]
        }
      ]
    },
    {
      "cell_type": "code",
      "source": [
        "y_predicted = model.predict(X_test)"
      ],
      "metadata": {
        "id": "hDZKlyRlA75l"
      },
      "execution_count": 77,
      "outputs": []
    },
    {
      "cell_type": "code",
      "source": [
        "print(\"✅ Accuracy:\", accuracy_score(y_test, y_predicted))\n",
        "print(\"\\n📊 Classification Report:\\n\", classification_report(y_test, y_predicted))\n",
        "print(\"\\n🧮 Confusion Matrix:\\n\", confusion_matrix(y_test, y_predicted))"
      ],
      "metadata": {
        "colab": {
          "base_uri": "https://localhost:8080/"
        },
        "id": "P7WoAD0PBiGJ",
        "outputId": "215fa98d-8f40-48fe-a9a5-2d2f7adf8c2b"
      },
      "execution_count": 79,
      "outputs": [
        {
          "output_type": "stream",
          "name": "stdout",
          "text": [
            "✅ Accuracy: 0.7877094972067039\n",
            "\n",
            "📊 Classification Report:\n",
            "               precision    recall  f1-score   support\n",
            "\n",
            "           0       0.81      0.85      0.83       110\n",
            "           1       0.75      0.68      0.71        69\n",
            "\n",
            "    accuracy                           0.79       179\n",
            "   macro avg       0.78      0.77      0.77       179\n",
            "weighted avg       0.79      0.79      0.79       179\n",
            "\n",
            "\n",
            "🧮 Confusion Matrix:\n",
            " [[94 16]\n",
            " [22 47]]\n"
          ]
        }
      ]
    }
  ]
}